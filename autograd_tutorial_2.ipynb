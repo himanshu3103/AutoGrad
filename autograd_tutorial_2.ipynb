{
 "cells": [
  {
   "cell_type": "markdown",
   "metadata": {},
   "source": [
    "# AutoGrad"
   ]
  },
  {
   "cell_type": "code",
   "execution_count": 44,
   "metadata": {},
   "outputs": [],
   "source": [
    "import math\n",
    "import numpy as np\n",
    "import matplotlib.pyplot as plt\n",
    "%matplotlib inline"
   ]
  },
  {
   "cell_type": "code",
   "execution_count": 45,
   "metadata": {},
   "outputs": [],
   "source": [
    "from graphviz import Digraph\n",
    "\n",
    "def trace(root):\n",
    "    # builds a set of all nodes and edges in a graph\n",
    "    nodes = set(); edges = set()\n",
    "    def build(v):\n",
    "        if v not in nodes:\n",
    "            nodes.add(v)\n",
    "            for child in v._prev:\n",
    "                edges.add((child, v))\n",
    "                build(child)\n",
    "    build(root)\n",
    "    return nodes, edges\n",
    "\n",
    "def draw_dot(root):\n",
    "    dot = Digraph(format='svg', graph_attr={'rankdir': 'LR'}) # LR -> left to right\n",
    "\n",
    "    nodes, edges = trace(root)\n",
    "    for n in nodes:\n",
    "        uid = str(id(n))\n",
    "        dot.node(name = uid, label = \"{%s | data %.4f}\" % (n.label, n.data), shape = 'record') # for value in the graph create a record for it\n",
    "        if n._op:\n",
    "            # if this node is the result of an operation then we create a node to signify it\n",
    "            dot.node(name = uid + n._op, label = n._op)\n",
    "            # and connect node to it\n",
    "            dot.edge(uid+n._op, uid)\n",
    "    for n1, n2 in edges:\n",
    "        dot.edge(str(id(n1)), str(id(n2)) + n2._op)\n",
    "    \n",
    "    return dot"
   ]
  },
  {
   "cell_type": "markdown",
   "metadata": {},
   "source": [
    "#### Implemeting __rmul__, exp and powers in the `Value` class"
   ]
  },
  {
   "cell_type": "code",
   "execution_count": 51,
   "metadata": {},
   "outputs": [],
   "source": [
    "class Value:\n",
    "\n",
    "    def __init__(self, data, _children = (), _op='', label=''):\n",
    "        self.data = data\n",
    "        self.grad = 0.0\n",
    "        self._backward = lambda: None\n",
    "        self._prev = set(_children)\n",
    "        self._op = _op\n",
    "        self.label = label\n",
    "    \n",
    "    def __repr__(self):\n",
    "        return f\"Value(data={self.data})\"\n",
    "    \n",
    "    def __add__(self, other):\n",
    "        other = other if isinstance(other,Value) else Value(other) # this functionality allows us to directly perform operation with non Value obejcts by explicitly first converting it to Value object\n",
    "        out = Value(self.data + other.data, (self, other), '+')\n",
    "        def _backward():\n",
    "            self.grad += 1.0 * out.grad\n",
    "            other.grad += 1.0 * out.grad\n",
    "        out._backward = _backward\n",
    "        return out\n",
    "\n",
    "    def __mul__(self, other):\n",
    "        other = other if isinstance(other,Value) else Value(other)\n",
    "        out = Value(self.data * other.data, {self, other}, '*') \n",
    "        def _backward():\n",
    "            self.grad += other.data * out.grad\n",
    "            other.grad += self.data * out.grad\n",
    "        out._backward = _backward\n",
    "        return out\n",
    "    \n",
    "    def __pow__(self, other):\n",
    "        assert isinstance(other, (int, float)), \"only supporting int/float powers for now\"\n",
    "        out = Value(self.data**other, (self, ), f'**{other}')\n",
    "        def _backward():\n",
    "            self.grad += (other) * (self.data**(other-1)) * out.grad\n",
    "        out._backward = _backward\n",
    "        return out\n",
    "\n",
    "    def __rmul__(self, other): # other * self\n",
    "        return self * other\n",
    "    \n",
    "    def __truediv__(self, other): # self / other\n",
    "        return self * other**-1\n",
    "    \n",
    "    def __neg__(self): # -self\n",
    "        return self * -1\n",
    "    \n",
    "    def __sub__(self, other): # self - other\n",
    "        return self + (-other)\n",
    "    \n",
    "    def tanh(self):\n",
    "        x = self.data\n",
    "        t = (math.exp(2*x)-1)/(math.exp(2*x)+1)\n",
    "        out = Value(t, (self, ), 'tanh')\n",
    "        def _backward():\n",
    "            self.grad += (1 - t**2) * out.grad\n",
    "        out._backward = _backward\n",
    "        return out\n",
    "    \n",
    "    def exp(self):\n",
    "        x = self.data\n",
    "        out = Value(math.exp(x), (self, ), 'exp')\n",
    "        def _backward():\n",
    "            self.grad += out.data * out.grad\n",
    "        out._backward = _backward\n",
    "        return out\n",
    "    \n",
    "    def backward(self):\n",
    "        topo = []\n",
    "        vis = set()\n",
    "        def build_topo(v):\n",
    "            if v not in vis:\n",
    "                vis.add(v)\n",
    "                for child in v._prev:\n",
    "                    build_topo(child)\n",
    "                topo.append(v)\n",
    "            return\n",
    "        self.grad = 1.0\n",
    "        build_topo(self)\n",
    "        for node in reversed(topo):\n",
    "            node._backward()"
   ]
  },
  {
   "cell_type": "markdown",
   "metadata": {},
   "source": [
    "#### Testing all basic operations with `Value` objects"
   ]
  },
  {
   "cell_type": "code",
   "execution_count": 52,
   "metadata": {},
   "outputs": [
    {
     "data": {
      "text/plain": [
       "Value(data=3.0)"
      ]
     },
     "execution_count": 52,
     "metadata": {},
     "output_type": "execute_result"
    }
   ],
   "source": [
    "a = Value(2.0)\n",
    "a + 1"
   ]
  },
  {
   "cell_type": "code",
   "execution_count": 34,
   "metadata": {},
   "outputs": [
    {
     "data": {
      "text/plain": [
       "Value(data=4.0)"
      ]
     },
     "execution_count": 34,
     "metadata": {},
     "output_type": "execute_result"
    }
   ],
   "source": [
    "a * 2"
   ]
  },
  {
   "cell_type": "code",
   "execution_count": 35,
   "metadata": {},
   "outputs": [
    {
     "ename": "TypeError",
     "evalue": "unsupported operand type(s) for *: 'int' and 'Value'",
     "output_type": "error",
     "traceback": [
      "\u001b[0;31m---------------------------------------------------------------------------\u001b[0m",
      "\u001b[0;31mTypeError\u001b[0m                                 Traceback (most recent call last)",
      "\u001b[0;32m/var/folders/5c/0q6gn2ws3555f5b_rs4408x00000gn/T/ipykernel_9147/263978569.py\u001b[0m in \u001b[0;36m<module>\u001b[0;34m\u001b[0m\n\u001b[0;32m----> 1\u001b[0;31m \u001b[0;36m2\u001b[0m \u001b[0;34m*\u001b[0m \u001b[0ma\u001b[0m \u001b[0;31m# this does not work as 2.__mul__(a) is not supported, so we need to create a __rmul__ to handle this case\u001b[0m\u001b[0;34m\u001b[0m\u001b[0;34m\u001b[0m\u001b[0m\n\u001b[0m",
      "\u001b[0;31mTypeError\u001b[0m: unsupported operand type(s) for *: 'int' and 'Value'"
     ]
    }
   ],
   "source": [
    "2 * a # this does not work as 2.__mul__(a) is not supported, so we need to create a __rmul__ to handle this case"
   ]
  },
  {
   "cell_type": "code",
   "execution_count": 40,
   "metadata": {},
   "outputs": [
    {
     "data": {
      "text/plain": [
       "Value(data=4.0)"
      ]
     },
     "execution_count": 40,
     "metadata": {},
     "output_type": "execute_result"
    }
   ],
   "source": [
    "2 * a"
   ]
  },
  {
   "cell_type": "code",
   "execution_count": 47,
   "metadata": {},
   "outputs": [
    {
     "data": {
      "text/plain": [
       "Value(data=2.718281828459045)"
      ]
     },
     "execution_count": 47,
     "metadata": {},
     "output_type": "execute_result"
    }
   ],
   "source": [
    "a = Value(1.0)\n",
    "a.exp()"
   ]
  },
  {
   "cell_type": "code",
   "execution_count": 50,
   "metadata": {},
   "outputs": [
    {
     "data": {
      "text/plain": [
       "Value(data=0.5)"
      ]
     },
     "execution_count": 50,
     "metadata": {},
     "output_type": "execute_result"
    }
   ],
   "source": [
    "a = Value(2.0); b = Value(4.0)\n",
    "a / b"
   ]
  },
  {
   "cell_type": "code",
   "execution_count": 53,
   "metadata": {},
   "outputs": [
    {
     "data": {
      "text/plain": [
       "Value(data=-2.0)"
      ]
     },
     "execution_count": 53,
     "metadata": {},
     "output_type": "execute_result"
    }
   ],
   "source": [
    "a = Value(2.0); b = Value(4.0)\n",
    "a - b"
   ]
  },
  {
   "cell_type": "code",
   "execution_count": 54,
   "metadata": {},
   "outputs": [],
   "source": [
    "# inputs x1,x2\n",
    "x1 = Value(2.0, label='x1')\n",
    "x2 = Value(0.0, label='x2')\n",
    "# weights w1,w2\n",
    "w1 = Value(-3.0, label='w1')\n",
    "w2 = Value(1.0, label='w2')\n",
    "# bias of the neuron\n",
    "b = Value(6.8813735870195432, label='b')\n",
    "# x1*w1 + x2*w2 + b\n",
    "x1w1 = x1*w1; x1w1.label = 'x1*w1'\n",
    "x2w2 = x2*w2; x2w2.label = 'x2*w2'\n",
    "x1w1x2w2 = x1w1 + x2w2; x1w1x2w2.label = 'x1*w1 + x2*w2'\n",
    "n = x1w1x2w2 + b; n.label = 'n'\n",
    "o = n.tanh(); o.label = 'o'\n",
    "o.backward()"
   ]
  },
  {
   "cell_type": "code",
   "execution_count": 55,
   "metadata": {},
   "outputs": [
    {
     "data": {
      "image/svg+xml": [
       "<?xml version=\"1.0\" encoding=\"UTF-8\" standalone=\"no\"?>\n",
       "<!DOCTYPE svg PUBLIC \"-//W3C//DTD SVG 1.1//EN\"\n",
       " \"http://www.w3.org/Graphics/SVG/1.1/DTD/svg11.dtd\">\n",
       "<!-- Generated by graphviz version 12.2.1 (20241206.2353)\n",
       " -->\n",
       "<!-- Pages: 1 -->\n",
       "<svg width=\"1160pt\" height=\"210pt\"\n",
       " viewBox=\"0.00 0.00 1160.25 210.00\" xmlns=\"http://www.w3.org/2000/svg\" xmlns:xlink=\"http://www.w3.org/1999/xlink\">\n",
       "<g id=\"graph0\" class=\"graph\" transform=\"scale(1 1) rotate(0) translate(4 206)\">\n",
       "<polygon fill=\"white\" stroke=\"none\" points=\"-4,4 -4,-206 1156.25,-206 1156.25,4 -4,4\"/>\n",
       "<!-- 140587712046080 -->\n",
       "<g id=\"node1\" class=\"node\">\n",
       "<title>140587712046080</title>\n",
       "<polygon fill=\"none\" stroke=\"black\" points=\"2.25,-165.5 2.25,-201.5 114.5,-201.5 114.5,-165.5 2.25,-165.5\"/>\n",
       "<text text-anchor=\"middle\" x=\"18.5\" y=\"-178.7\" font-family=\"Times,serif\" font-size=\"14.00\">w2</text>\n",
       "<polyline fill=\"none\" stroke=\"black\" points=\"34.75,-166 34.75,-201.5\"/>\n",
       "<text text-anchor=\"middle\" x=\"74.62\" y=\"-178.7\" font-family=\"Times,serif\" font-size=\"14.00\">data 1.0000</text>\n",
       "</g>\n",
       "<!-- 140587712049008* -->\n",
       "<g id=\"node11\" class=\"node\">\n",
       "<title>140587712049008*</title>\n",
       "<ellipse fill=\"none\" stroke=\"black\" cx=\"179.75\" cy=\"-128.5\" rx=\"27\" ry=\"18\"/>\n",
       "<text text-anchor=\"middle\" x=\"179.75\" y=\"-123.45\" font-family=\"Times,serif\" font-size=\"14.00\">*</text>\n",
       "</g>\n",
       "<!-- 140587712046080&#45;&gt;140587712049008* -->\n",
       "<g id=\"edge6\" class=\"edge\">\n",
       "<title>140587712046080&#45;&gt;140587712049008*</title>\n",
       "<path fill=\"none\" stroke=\"black\" d=\"M99.46,-165.03C114.94,-157.9 132.39,-149.86 146.98,-143.14\"/>\n",
       "<polygon fill=\"black\" stroke=\"black\" points=\"148.03,-146.51 155.65,-139.14 145.1,-140.15 148.03,-146.51\"/>\n",
       "</g>\n",
       "<!-- 140587712044096 -->\n",
       "<g id=\"node2\" class=\"node\">\n",
       "<title>140587712044096</title>\n",
       "<polygon fill=\"none\" stroke=\"black\" points=\"3.75,-110.5 3.75,-146.5 113,-146.5 113,-110.5 3.75,-110.5\"/>\n",
       "<text text-anchor=\"middle\" x=\"18.5\" y=\"-123.7\" font-family=\"Times,serif\" font-size=\"14.00\">x2</text>\n",
       "<polyline fill=\"none\" stroke=\"black\" points=\"33.25,-111 33.25,-146.5\"/>\n",
       "<text text-anchor=\"middle\" x=\"73.12\" y=\"-123.7\" font-family=\"Times,serif\" font-size=\"14.00\">data 0.0000</text>\n",
       "</g>\n",
       "<!-- 140587712044096&#45;&gt;140587712049008* -->\n",
       "<g id=\"edge7\" class=\"edge\">\n",
       "<title>140587712044096&#45;&gt;140587712049008*</title>\n",
       "<path fill=\"none\" stroke=\"black\" d=\"M113.47,-128.5C122.8,-128.5 132.32,-128.5 141.09,-128.5\"/>\n",
       "<polygon fill=\"black\" stroke=\"black\" points=\"141,-132 151,-128.5 141,-125 141,-132\"/>\n",
       "</g>\n",
       "<!-- 140587712047280 -->\n",
       "<g id=\"node3\" class=\"node\">\n",
       "<title>140587712047280</title>\n",
       "<polygon fill=\"none\" stroke=\"black\" points=\"242.75,-55.5 242.75,-91.5 379.75,-91.5 379.75,-55.5 242.75,-55.5\"/>\n",
       "<text text-anchor=\"middle\" x=\"269.12\" y=\"-68.7\" font-family=\"Times,serif\" font-size=\"14.00\">x1*w1</text>\n",
       "<polyline fill=\"none\" stroke=\"black\" points=\"295.5,-56 295.5,-91.5\"/>\n",
       "<text text-anchor=\"middle\" x=\"337.62\" y=\"-68.7\" font-family=\"Times,serif\" font-size=\"14.00\">data &#45;6.0000</text>\n",
       "</g>\n",
       "<!-- 140587582857520+ -->\n",
       "<g id=\"node6\" class=\"node\">\n",
       "<title>140587582857520+</title>\n",
       "<ellipse fill=\"none\" stroke=\"black\" cx=\"442.75\" cy=\"-100.5\" rx=\"27\" ry=\"18\"/>\n",
       "<text text-anchor=\"middle\" x=\"442.75\" y=\"-95.45\" font-family=\"Times,serif\" font-size=\"14.00\">+</text>\n",
       "</g>\n",
       "<!-- 140587712047280&#45;&gt;140587582857520+ -->\n",
       "<g id=\"edge14\" class=\"edge\">\n",
       "<title>140587712047280&#45;&gt;140587582857520+</title>\n",
       "<path fill=\"none\" stroke=\"black\" d=\"M380.03,-87.63C388.83,-89.47 397.56,-91.29 405.55,-92.95\"/>\n",
       "<polygon fill=\"black\" stroke=\"black\" points=\"404.69,-96.35 415.19,-94.96 406.12,-89.5 404.69,-96.35\"/>\n",
       "</g>\n",
       "<!-- 140587712047280* -->\n",
       "<g id=\"node4\" class=\"node\">\n",
       "<title>140587712047280*</title>\n",
       "<ellipse fill=\"none\" stroke=\"black\" cx=\"179.75\" cy=\"-73.5\" rx=\"27\" ry=\"18\"/>\n",
       "<text text-anchor=\"middle\" x=\"179.75\" y=\"-68.45\" font-family=\"Times,serif\" font-size=\"14.00\">*</text>\n",
       "</g>\n",
       "<!-- 140587712047280*&#45;&gt;140587712047280 -->\n",
       "<g id=\"edge1\" class=\"edge\">\n",
       "<title>140587712047280*&#45;&gt;140587712047280</title>\n",
       "<path fill=\"none\" stroke=\"black\" d=\"M206.96,-73.5C214.15,-73.5 222.34,-73.5 230.89,-73.5\"/>\n",
       "<polygon fill=\"black\" stroke=\"black\" points=\"230.77,-77 240.77,-73.5 230.77,-70 230.77,-77\"/>\n",
       "</g>\n",
       "<!-- 140587582857520 -->\n",
       "<g id=\"node5\" class=\"node\">\n",
       "<title>140587582857520</title>\n",
       "<polygon fill=\"none\" stroke=\"black\" points=\"505.75,-82.5 505.75,-118.5 695.25,-118.5 695.25,-82.5 505.75,-82.5\"/>\n",
       "<text text-anchor=\"middle\" x=\"558.38\" y=\"-95.7\" font-family=\"Times,serif\" font-size=\"14.00\">x1*w1 + x2*w2</text>\n",
       "<polyline fill=\"none\" stroke=\"black\" points=\"611,-83 611,-118.5\"/>\n",
       "<text text-anchor=\"middle\" x=\"653.12\" y=\"-95.7\" font-family=\"Times,serif\" font-size=\"14.00\">data &#45;6.0000</text>\n",
       "</g>\n",
       "<!-- 140587582860688+ -->\n",
       "<g id=\"node13\" class=\"node\">\n",
       "<title>140587582860688+</title>\n",
       "<ellipse fill=\"none\" stroke=\"black\" cx=\"758.25\" cy=\"-72.5\" rx=\"27\" ry=\"18\"/>\n",
       "<text text-anchor=\"middle\" x=\"758.25\" y=\"-67.45\" font-family=\"Times,serif\" font-size=\"14.00\">+</text>\n",
       "</g>\n",
       "<!-- 140587582857520&#45;&gt;140587582860688+ -->\n",
       "<g id=\"edge13\" class=\"edge\">\n",
       "<title>140587582857520&#45;&gt;140587582860688+</title>\n",
       "<path fill=\"none\" stroke=\"black\" d=\"M695.69,-83.57C704.46,-81.99 712.93,-80.47 720.65,-79.08\"/>\n",
       "<polygon fill=\"black\" stroke=\"black\" points=\"721,-82.57 730.22,-77.36 719.76,-75.68 721,-82.57\"/>\n",
       "</g>\n",
       "<!-- 140587582857520+&#45;&gt;140587582857520 -->\n",
       "<g id=\"edge2\" class=\"edge\">\n",
       "<title>140587582857520+&#45;&gt;140587582857520</title>\n",
       "<path fill=\"none\" stroke=\"black\" d=\"M470.17,-100.5C477.31,-100.5 485.49,-100.5 494.2,-100.5\"/>\n",
       "<polygon fill=\"black\" stroke=\"black\" points=\"493.96,-104 503.96,-100.5 493.96,-97 493.96,-104\"/>\n",
       "</g>\n",
       "<!-- 140587712045888 -->\n",
       "<g id=\"node7\" class=\"node\">\n",
       "<title>140587712045888</title>\n",
       "<polygon fill=\"none\" stroke=\"black\" points=\"549.25,-27.5 549.25,-63.5 651.75,-63.5 651.75,-27.5 549.25,-27.5\"/>\n",
       "<text text-anchor=\"middle\" x=\"560.62\" y=\"-40.7\" font-family=\"Times,serif\" font-size=\"14.00\">b</text>\n",
       "<polyline fill=\"none\" stroke=\"black\" points=\"572,-28 572,-63.5\"/>\n",
       "<text text-anchor=\"middle\" x=\"611.88\" y=\"-40.7\" font-family=\"Times,serif\" font-size=\"14.00\">data 6.8814</text>\n",
       "</g>\n",
       "<!-- 140587712045888&#45;&gt;140587582860688+ -->\n",
       "<g id=\"edge9\" class=\"edge\">\n",
       "<title>140587712045888&#45;&gt;140587582860688+</title>\n",
       "<path fill=\"none\" stroke=\"black\" d=\"M652.07,-54.27C674.34,-58.13 700.03,-62.58 720.45,-66.12\"/>\n",
       "<polygon fill=\"black\" stroke=\"black\" points=\"719.85,-69.57 730.3,-67.83 721.04,-62.67 719.85,-69.57\"/>\n",
       "</g>\n",
       "<!-- 140587311410528 -->\n",
       "<g id=\"node8\" class=\"node\">\n",
       "<title>140587311410528</title>\n",
       "<polygon fill=\"none\" stroke=\"black\" points=\"1049.75,-54.5 1049.75,-90.5 1152.25,-90.5 1152.25,-54.5 1049.75,-54.5\"/>\n",
       "<text text-anchor=\"middle\" x=\"1061.12\" y=\"-67.7\" font-family=\"Times,serif\" font-size=\"14.00\">o</text>\n",
       "<polyline fill=\"none\" stroke=\"black\" points=\"1072.5,-55 1072.5,-90.5\"/>\n",
       "<text text-anchor=\"middle\" x=\"1112.38\" y=\"-67.7\" font-family=\"Times,serif\" font-size=\"14.00\">data 0.7071</text>\n",
       "</g>\n",
       "<!-- 140587311410528tanh -->\n",
       "<g id=\"node9\" class=\"node\">\n",
       "<title>140587311410528tanh</title>\n",
       "<ellipse fill=\"none\" stroke=\"black\" cx=\"986.75\" cy=\"-72.5\" rx=\"27\" ry=\"18\"/>\n",
       "<text text-anchor=\"middle\" x=\"986.75\" y=\"-67.45\" font-family=\"Times,serif\" font-size=\"14.00\">tanh</text>\n",
       "</g>\n",
       "<!-- 140587311410528tanh&#45;&gt;140587311410528 -->\n",
       "<g id=\"edge3\" class=\"edge\">\n",
       "<title>140587311410528tanh&#45;&gt;140587311410528</title>\n",
       "<path fill=\"none\" stroke=\"black\" d=\"M1014.07,-72.5C1021.46,-72.5 1029.82,-72.5 1038.35,-72.5\"/>\n",
       "<polygon fill=\"black\" stroke=\"black\" points=\"1038.08,-76 1048.08,-72.5 1038.08,-69 1038.08,-76\"/>\n",
       "</g>\n",
       "<!-- 140587712049008 -->\n",
       "<g id=\"node10\" class=\"node\">\n",
       "<title>140587712049008</title>\n",
       "<polygon fill=\"none\" stroke=\"black\" points=\"245,-110.5 245,-146.5 377.5,-146.5 377.5,-110.5 245,-110.5\"/>\n",
       "<text text-anchor=\"middle\" x=\"271.38\" y=\"-123.7\" font-family=\"Times,serif\" font-size=\"14.00\">x2*w2</text>\n",
       "<polyline fill=\"none\" stroke=\"black\" points=\"297.75,-111 297.75,-146.5\"/>\n",
       "<text text-anchor=\"middle\" x=\"337.62\" y=\"-123.7\" font-family=\"Times,serif\" font-size=\"14.00\">data 0.0000</text>\n",
       "</g>\n",
       "<!-- 140587712049008&#45;&gt;140587582857520+ -->\n",
       "<g id=\"edge8\" class=\"edge\">\n",
       "<title>140587712049008&#45;&gt;140587582857520+</title>\n",
       "<path fill=\"none\" stroke=\"black\" d=\"M377.76,-114.34C387.25,-112.28 396.71,-110.24 405.34,-108.37\"/>\n",
       "<polygon fill=\"black\" stroke=\"black\" points=\"406,-111.81 415.04,-106.28 404.52,-104.97 406,-111.81\"/>\n",
       "</g>\n",
       "<!-- 140587712049008*&#45;&gt;140587712049008 -->\n",
       "<g id=\"edge4\" class=\"edge\">\n",
       "<title>140587712049008*&#45;&gt;140587712049008</title>\n",
       "<path fill=\"none\" stroke=\"black\" d=\"M206.96,-128.5C214.87,-128.5 223.99,-128.5 233.47,-128.5\"/>\n",
       "<polygon fill=\"black\" stroke=\"black\" points=\"233.2,-132 243.2,-128.5 233.2,-125 233.2,-132\"/>\n",
       "</g>\n",
       "<!-- 140587582860688 -->\n",
       "<g id=\"node12\" class=\"node\">\n",
       "<title>140587582860688</title>\n",
       "<polygon fill=\"none\" stroke=\"black\" points=\"821.25,-54.5 821.25,-90.5 923.75,-90.5 923.75,-54.5 821.25,-54.5\"/>\n",
       "<text text-anchor=\"middle\" x=\"832.62\" y=\"-67.7\" font-family=\"Times,serif\" font-size=\"14.00\">n</text>\n",
       "<polyline fill=\"none\" stroke=\"black\" points=\"844,-55 844,-90.5\"/>\n",
       "<text text-anchor=\"middle\" x=\"883.88\" y=\"-67.7\" font-family=\"Times,serif\" font-size=\"14.00\">data 0.8814</text>\n",
       "</g>\n",
       "<!-- 140587582860688&#45;&gt;140587311410528tanh -->\n",
       "<g id=\"edge10\" class=\"edge\">\n",
       "<title>140587582860688&#45;&gt;140587311410528tanh</title>\n",
       "<path fill=\"none\" stroke=\"black\" d=\"M924.04,-72.5C932.16,-72.5 940.43,-72.5 948.17,-72.5\"/>\n",
       "<polygon fill=\"black\" stroke=\"black\" points=\"947.91,-76 957.91,-72.5 947.91,-69 947.91,-76\"/>\n",
       "</g>\n",
       "<!-- 140587582860688+&#45;&gt;140587582860688 -->\n",
       "<g id=\"edge5\" class=\"edge\">\n",
       "<title>140587582860688+&#45;&gt;140587582860688</title>\n",
       "<path fill=\"none\" stroke=\"black\" d=\"M785.57,-72.5C792.96,-72.5 801.32,-72.5 809.85,-72.5\"/>\n",
       "<polygon fill=\"black\" stroke=\"black\" points=\"809.58,-76 819.58,-72.5 809.58,-69 809.58,-76\"/>\n",
       "</g>\n",
       "<!-- 140587712045984 -->\n",
       "<g id=\"node14\" class=\"node\">\n",
       "<title>140587712045984</title>\n",
       "<polygon fill=\"none\" stroke=\"black\" points=\"3.75,-55.5 3.75,-91.5 113,-91.5 113,-55.5 3.75,-55.5\"/>\n",
       "<text text-anchor=\"middle\" x=\"18.5\" y=\"-68.7\" font-family=\"Times,serif\" font-size=\"14.00\">x1</text>\n",
       "<polyline fill=\"none\" stroke=\"black\" points=\"33.25,-56 33.25,-91.5\"/>\n",
       "<text text-anchor=\"middle\" x=\"73.12\" y=\"-68.7\" font-family=\"Times,serif\" font-size=\"14.00\">data 2.0000</text>\n",
       "</g>\n",
       "<!-- 140587712045984&#45;&gt;140587712047280* -->\n",
       "<g id=\"edge11\" class=\"edge\">\n",
       "<title>140587712045984&#45;&gt;140587712047280*</title>\n",
       "<path fill=\"none\" stroke=\"black\" d=\"M113.47,-73.5C122.8,-73.5 132.32,-73.5 141.09,-73.5\"/>\n",
       "<polygon fill=\"black\" stroke=\"black\" points=\"141,-77 151,-73.5 141,-70 141,-77\"/>\n",
       "</g>\n",
       "<!-- 140587712048048 -->\n",
       "<g id=\"node15\" class=\"node\">\n",
       "<title>140587712048048</title>\n",
       "<polygon fill=\"none\" stroke=\"black\" points=\"0,-0.5 0,-36.5 116.75,-36.5 116.75,-0.5 0,-0.5\"/>\n",
       "<text text-anchor=\"middle\" x=\"16.25\" y=\"-13.7\" font-family=\"Times,serif\" font-size=\"14.00\">w1</text>\n",
       "<polyline fill=\"none\" stroke=\"black\" points=\"32.5,-1 32.5,-36.5\"/>\n",
       "<text text-anchor=\"middle\" x=\"74.62\" y=\"-13.7\" font-family=\"Times,serif\" font-size=\"14.00\">data &#45;3.0000</text>\n",
       "</g>\n",
       "<!-- 140587712048048&#45;&gt;140587712047280* -->\n",
       "<g id=\"edge12\" class=\"edge\">\n",
       "<title>140587712048048&#45;&gt;140587712047280*</title>\n",
       "<path fill=\"none\" stroke=\"black\" d=\"M99.46,-36.97C114.94,-44.1 132.39,-52.14 146.98,-58.86\"/>\n",
       "<polygon fill=\"black\" stroke=\"black\" points=\"145.1,-61.85 155.65,-62.86 148.03,-55.49 145.1,-61.85\"/>\n",
       "</g>\n",
       "</g>\n",
       "</svg>\n"
      ],
      "text/plain": [
       "<graphviz.graphs.Digraph at 0x7fdd20a2ec10>"
      ]
     },
     "execution_count": 55,
     "metadata": {},
     "output_type": "execute_result"
    }
   ],
   "source": [
    "draw_dot(o)"
   ]
  },
  {
   "cell_type": "code",
   "execution_count": null,
   "metadata": {},
   "outputs": [],
   "source": []
  }
 ],
 "metadata": {
  "kernelspec": {
   "display_name": "finetuning",
   "language": "python",
   "name": "python3"
  },
  "language_info": {
   "codemirror_mode": {
    "name": "ipython",
    "version": 3
   },
   "file_extension": ".py",
   "mimetype": "text/x-python",
   "name": "python",
   "nbconvert_exporter": "python",
   "pygments_lexer": "ipython3",
   "version": "3.9.13"
  }
 },
 "nbformat": 4,
 "nbformat_minor": 2
}
